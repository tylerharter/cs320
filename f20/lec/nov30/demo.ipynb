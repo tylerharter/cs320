{
 "cells": [
  {
   "cell_type": "markdown",
   "metadata": {},
   "source": [
    "# Categorical Data\n",
    "\n",
    "* Regression: prediction column is numeric\n",
    "* Classification: prediction column is categorical\n",
    "\n",
    "What if an input variable in categorical?\n",
    "\n",
    "LinearRegression and LogisticalRegression need numeric inputs.\n",
    "\n",
    "Strategy: One-Hot Encoding"
   ]
  },
  {
   "cell_type": "markdown",
   "metadata": {},
   "source": [
    "# Data: Lake Michigan Waves\n",
    "\n",
    "https://data.cityofchicago.org/Parks-Recreation/Beach-Water-Quality-Automated-Sensors/qmqz-2xku\n",
    "\n",
    "Can we predict wave height based on wave period (time between waves)?"
   ]
  },
  {
   "cell_type": "code",
   "execution_count": 1,
   "metadata": {},
   "outputs": [],
   "source": [
    "import numpy as np\n",
    "import pandas as pd\n",
    "import matplotlib.pyplot as plt"
   ]
  },
  {
   "cell_type": "code",
   "execution_count": 2,
   "metadata": {},
   "outputs": [
    {
     "data": {
      "text/html": [
       "<div>\n",
       "<style scoped>\n",
       "    .dataframe tbody tr th:only-of-type {\n",
       "        vertical-align: middle;\n",
       "    }\n",
       "\n",
       "    .dataframe tbody tr th {\n",
       "        vertical-align: top;\n",
       "    }\n",
       "\n",
       "    .dataframe thead th {\n",
       "        text-align: right;\n",
       "    }\n",
       "</style>\n",
       "<table border=\"1\" class=\"dataframe\">\n",
       "  <thead>\n",
       "    <tr style=\"text-align: right;\">\n",
       "      <th></th>\n",
       "      <th>Beach Name</th>\n",
       "      <th>Measurement Timestamp</th>\n",
       "      <th>Water Temperature</th>\n",
       "      <th>Turbidity</th>\n",
       "      <th>Transducer Depth</th>\n",
       "      <th>Wave Height</th>\n",
       "      <th>Wave Period</th>\n",
       "      <th>Battery Life</th>\n",
       "      <th>Measurement Timestamp Label</th>\n",
       "      <th>Measurement ID</th>\n",
       "    </tr>\n",
       "  </thead>\n",
       "  <tbody>\n",
       "    <tr>\n",
       "      <th>0</th>\n",
       "      <td>Ohio Street Beach</td>\n",
       "      <td>06/02/2019 05:00:00 PM</td>\n",
       "      <td>17.1</td>\n",
       "      <td>0.78</td>\n",
       "      <td>NaN</td>\n",
       "      <td>0.232</td>\n",
       "      <td>4.0</td>\n",
       "      <td>10.9</td>\n",
       "      <td>06/02/2019 5:00 PM</td>\n",
       "      <td>OhioStreetBeach201906021700</td>\n",
       "    </tr>\n",
       "    <tr>\n",
       "      <th>1</th>\n",
       "      <td>63rd Street Beach</td>\n",
       "      <td>09/18/2013 10:00:00 AM</td>\n",
       "      <td>18.9</td>\n",
       "      <td>7.56</td>\n",
       "      <td>1.517</td>\n",
       "      <td>0.140</td>\n",
       "      <td>4.0</td>\n",
       "      <td>11.0</td>\n",
       "      <td>09/18/2013 10:00 AM</td>\n",
       "      <td>63rdStreetBeach201309181000</td>\n",
       "    </tr>\n",
       "    <tr>\n",
       "      <th>2</th>\n",
       "      <td>63rd Street Beach</td>\n",
       "      <td>06/12/2014 12:00:00 PM</td>\n",
       "      <td>25.4</td>\n",
       "      <td>3.45</td>\n",
       "      <td>-0.072</td>\n",
       "      <td>0.031</td>\n",
       "      <td>9.0</td>\n",
       "      <td>12.2</td>\n",
       "      <td>06/12/2014 12:00 PM</td>\n",
       "      <td>63rdStreetBeach201406121200</td>\n",
       "    </tr>\n",
       "    <tr>\n",
       "      <th>3</th>\n",
       "      <td>63rd Street Beach</td>\n",
       "      <td>06/12/2014 01:00:00 PM</td>\n",
       "      <td>18.1</td>\n",
       "      <td>3.31</td>\n",
       "      <td>1.818</td>\n",
       "      <td>0.339</td>\n",
       "      <td>10.0</td>\n",
       "      <td>12.2</td>\n",
       "      <td>06/12/2014 1:00 PM</td>\n",
       "      <td>63rdStreetBeach201406121300</td>\n",
       "    </tr>\n",
       "    <tr>\n",
       "      <th>4</th>\n",
       "      <td>63rd Street Beach</td>\n",
       "      <td>06/12/2014 02:00:00 PM</td>\n",
       "      <td>17.5</td>\n",
       "      <td>2.93</td>\n",
       "      <td>1.545</td>\n",
       "      <td>0.136</td>\n",
       "      <td>4.0</td>\n",
       "      <td>12.2</td>\n",
       "      <td>06/12/2014 2:00 PM</td>\n",
       "      <td>63rdStreetBeach201406121400</td>\n",
       "    </tr>\n",
       "  </tbody>\n",
       "</table>\n",
       "</div>"
      ],
      "text/plain": [
       "          Beach Name   Measurement Timestamp  Water Temperature  Turbidity  \\\n",
       "0  Ohio Street Beach  06/02/2019 05:00:00 PM               17.1       0.78   \n",
       "1  63rd Street Beach  09/18/2013 10:00:00 AM               18.9       7.56   \n",
       "2  63rd Street Beach  06/12/2014 12:00:00 PM               25.4       3.45   \n",
       "3  63rd Street Beach  06/12/2014 01:00:00 PM               18.1       3.31   \n",
       "4  63rd Street Beach  06/12/2014 02:00:00 PM               17.5       2.93   \n",
       "\n",
       "   Transducer Depth  Wave Height  Wave Period  Battery Life  \\\n",
       "0               NaN        0.232          4.0          10.9   \n",
       "1             1.517        0.140          4.0          11.0   \n",
       "2            -0.072        0.031          9.0          12.2   \n",
       "3             1.818        0.339         10.0          12.2   \n",
       "4             1.545        0.136          4.0          12.2   \n",
       "\n",
       "  Measurement Timestamp Label               Measurement ID  \n",
       "0          06/02/2019 5:00 PM  OhioStreetBeach201906021700  \n",
       "1         09/18/2013 10:00 AM  63rdStreetBeach201309181000  \n",
       "2         06/12/2014 12:00 PM  63rdStreetBeach201406121200  \n",
       "3          06/12/2014 1:00 PM  63rdStreetBeach201406121300  \n",
       "4          06/12/2014 2:00 PM  63rdStreetBeach201406121400  "
      ]
     },
     "execution_count": 2,
     "metadata": {},
     "output_type": "execute_result"
    }
   ],
   "source": [
    "df = pd.read_csv(\"waves.csv\")\n",
    "df.head()"
   ]
  },
  {
   "cell_type": "code",
   "execution_count": 7,
   "metadata": {},
   "outputs": [
    {
     "data": {
      "text/plain": [
       "<matplotlib.axes._subplots.AxesSubplot at 0x7f591bfb4a90>"
      ]
     },
     "execution_count": 7,
     "metadata": {},
     "output_type": "execute_result"
    },
    {
     "data": {
      "image/png": "[encoded data removed]",
      "text/plain": [
       "<Figure size 432x288 with 1 Axes>"
      ]
     },
     "metadata": {
      "needs_background": "light"
     },
     "output_type": "display_data"
    }
   ],
   "source": [
    "df = df[(df[\"Wave Period\"] > 0) & (df[\"Wave Height\"] > 0)]\n",
    "df.plot.scatter(x=\"Wave Period\", y=\"Wave Height\", color=\"k\", alpha=0.05)\n",
    "# observation: non-linear relationship (use PolynomialFeatures)"
   ]
  },
  {
   "cell_type": "code",
   "execution_count": 9,
   "metadata": {},
   "outputs": [
    {
     "data": {
      "text/plain": [
       "['63rd Street Beach',\n",
       " 'Calumet Beach',\n",
       " 'Montrose Beach',\n",
       " 'Ohio Street Beach',\n",
       " 'Osterman Beach',\n",
       " 'Rainbow Beach']"
      ]
     },
     "execution_count": 9,
     "metadata": {},
     "output_type": "execute_result"
    }
   ],
   "source": [
    "beach_names = sorted(set(df[\"Beach Name\"]))\n",
    "beach_names"
   ]
  },
  {
   "cell_type": "code",
   "execution_count": 22,
   "metadata": {},
   "outputs": [
    {
     "data": {
      "image/png": "[encoded data removed]",
      "text/plain": [
       "<Figure size 864x576 with 6 Axes>"
      ]
     },
     "metadata": {
      "needs_background": "light"
     },
     "output_type": "display_data"
    }
   ],
   "source": [
    "fig, axes = plt.subplots(2, 3, figsize=(12, 8), sharey=True)\n",
    "plt.subplots_adjust(hspace=0.3)\n",
    "axes = list(axes.reshape(-1))\n",
    "for b in beach_names:\n",
    "    ax = axes.pop(0)\n",
    "    ax.set_title(b)\n",
    "    beach_df = df[df[\"Beach Name\"] == b]\n",
    "    beach_df.plot.scatter(x=\"Wave Period\", y=\"Wave Height\", \n",
    "                          color=\"k\", alpha=0.1, ax=ax)\n",
    "# Obversation: beaches have distinct patterns (use OneHot encoding)"
   ]
  },
  {
   "cell_type": "code",
   "execution_count": 37,
   "metadata": {},
   "outputs": [],
   "source": [
    "from sklearn.pipeline import Pipeline\n",
    "from sklearn.linear_model import LinearRegression\n",
    "from sklearn.metrics import explained_variance_score\n",
    "from sklearn.preprocessing import PolynomialFeatures\n",
    "from sklearn.model_selection import train_test_split"
   ]
  },
  {
   "cell_type": "code",
   "execution_count": 30,
   "metadata": {},
   "outputs": [
    {
     "data": {
      "text/html": [
       "<div>\n",
       "<style scoped>\n",
       "    .dataframe tbody tr th:only-of-type {\n",
       "        vertical-align: middle;\n",
       "    }\n",
       "\n",
       "    .dataframe tbody tr th {\n",
       "        vertical-align: top;\n",
       "    }\n",
       "\n",
       "    .dataframe thead th {\n",
       "        text-align: right;\n",
       "    }\n",
       "</style>\n",
       "<table border=\"1\" class=\"dataframe\">\n",
       "  <thead>\n",
       "    <tr style=\"text-align: right;\">\n",
       "      <th></th>\n",
       "      <th>Beach Name</th>\n",
       "      <th>Measurement Timestamp</th>\n",
       "      <th>Water Temperature</th>\n",
       "      <th>Turbidity</th>\n",
       "      <th>Transducer Depth</th>\n",
       "      <th>Wave Height</th>\n",
       "      <th>Wave Period</th>\n",
       "      <th>Battery Life</th>\n",
       "      <th>Measurement Timestamp Label</th>\n",
       "      <th>Measurement ID</th>\n",
       "    </tr>\n",
       "  </thead>\n",
       "  <tbody>\n",
       "    <tr>\n",
       "      <th>3819</th>\n",
       "      <td>Calumet Beach</td>\n",
       "      <td>06/14/2014 05:00:00 AM</td>\n",
       "      <td>18.2</td>\n",
       "      <td>1.05</td>\n",
       "      <td>1.433</td>\n",
       "      <td>0.078</td>\n",
       "      <td>4.0</td>\n",
       "      <td>11.0</td>\n",
       "      <td>06/14/2014 5:00 AM</td>\n",
       "      <td>CalumetBeach201406140500</td>\n",
       "    </tr>\n",
       "    <tr>\n",
       "      <th>9262</th>\n",
       "      <td>Calumet Beach</td>\n",
       "      <td>07/05/2016 03:00:00 AM</td>\n",
       "      <td>22.2</td>\n",
       "      <td>1.18</td>\n",
       "      <td>NaN</td>\n",
       "      <td>0.111</td>\n",
       "      <td>3.0</td>\n",
       "      <td>11.9</td>\n",
       "      <td>07/05/2016 3:00 AM</td>\n",
       "      <td>CalumetBeach201607050300</td>\n",
       "    </tr>\n",
       "    <tr>\n",
       "      <th>18536</th>\n",
       "      <td>Ohio Street Beach</td>\n",
       "      <td>06/18/2014 05:00:00 AM</td>\n",
       "      <td>17.6</td>\n",
       "      <td>0.90</td>\n",
       "      <td>1.737</td>\n",
       "      <td>0.088</td>\n",
       "      <td>4.0</td>\n",
       "      <td>11.3</td>\n",
       "      <td>06/18/2014 5:00 AM</td>\n",
       "      <td>OhioStreetBeach201406180500</td>\n",
       "    </tr>\n",
       "    <tr>\n",
       "      <th>34659</th>\n",
       "      <td>Rainbow Beach</td>\n",
       "      <td>09/16/2015 04:00:00 PM</td>\n",
       "      <td>19.5</td>\n",
       "      <td>1.00</td>\n",
       "      <td>NaN</td>\n",
       "      <td>0.145</td>\n",
       "      <td>4.0</td>\n",
       "      <td>11.4</td>\n",
       "      <td>09/16/2015 4:00 PM</td>\n",
       "      <td>RainbowBeach201509161600</td>\n",
       "    </tr>\n",
       "    <tr>\n",
       "      <th>28142</th>\n",
       "      <td>Osterman Beach</td>\n",
       "      <td>07/05/2014 03:00:00 PM</td>\n",
       "      <td>17.7</td>\n",
       "      <td>0.43</td>\n",
       "      <td>1.354</td>\n",
       "      <td>0.163</td>\n",
       "      <td>4.0</td>\n",
       "      <td>10.9</td>\n",
       "      <td>07/05/2014 3:00 PM</td>\n",
       "      <td>OstermanBeach201407051500</td>\n",
       "    </tr>\n",
       "  </tbody>\n",
       "</table>\n",
       "</div>"
      ],
      "text/plain": [
       "              Beach Name   Measurement Timestamp  Water Temperature  \\\n",
       "3819       Calumet Beach  06/14/2014 05:00:00 AM               18.2   \n",
       "9262       Calumet Beach  07/05/2016 03:00:00 AM               22.2   \n",
       "18536  Ohio Street Beach  06/18/2014 05:00:00 AM               17.6   \n",
       "34659      Rainbow Beach  09/16/2015 04:00:00 PM               19.5   \n",
       "28142     Osterman Beach  07/05/2014 03:00:00 PM               17.7   \n",
       "\n",
       "       Turbidity  Transducer Depth  Wave Height  Wave Period  Battery Life  \\\n",
       "3819        1.05             1.433        0.078          4.0          11.0   \n",
       "9262        1.18               NaN        0.111          3.0          11.9   \n",
       "18536       0.90             1.737        0.088          4.0          11.3   \n",
       "34659       1.00               NaN        0.145          4.0          11.4   \n",
       "28142       0.43             1.354        0.163          4.0          10.9   \n",
       "\n",
       "      Measurement Timestamp Label               Measurement ID  \n",
       "3819           06/14/2014 5:00 AM     CalumetBeach201406140500  \n",
       "9262           07/05/2016 3:00 AM     CalumetBeach201607050300  \n",
       "18536          06/18/2014 5:00 AM  OhioStreetBeach201406180500  \n",
       "34659          09/16/2015 4:00 PM     RainbowBeach201509161600  \n",
       "28142          07/05/2014 3:00 PM    OstermanBeach201407051500  "
      ]
     },
     "execution_count": 30,
     "metadata": {},
     "output_type": "execute_result"
    }
   ],
   "source": [
    "train, test = train_test_split(df)\n",
    "train.head()"
   ]
  },
  {
   "cell_type": "code",
   "execution_count": 76,
   "metadata": {},
   "outputs": [],
   "source": [
    "from sklearn.preprocessing import OneHotEncoder\n",
    "from sklearn.base import TransformerMixin"
   ]
  },
  {
   "cell_type": "code",
   "execution_count": 90,
   "metadata": {},
   "outputs": [],
   "source": [
    "# transformer!\n",
    "class BetterOneHot(TransformerMixin):\n",
    "    def __init__(self, col):\n",
    "        self.col = col\n",
    "        self.oh = OneHotEncoder()\n",
    "    \n",
    "    def fit(self, X, y=None):\n",
    "        self.oh.fit(X[[self.col]])\n",
    "        return self\n",
    "    \n",
    "    def transform(self, X):\n",
    "        # TODO: return old data too, all in DataFrame\n",
    "        ones = self.oh.transform(X[[self.col]])\n",
    "        ones = pd.DataFrame(ones.toarray(),\n",
    "                            columns=self.oh.get_feature_names(),\n",
    "                            index=X.index)\n",
    "        return pd.concat((X.drop(columns=[self.col]), ones), axis=1)"
   ]
  },
  {
   "cell_type": "code",
   "execution_count": 92,
   "metadata": {},
   "outputs": [
    {
     "data": {
      "text/html": [
       "<div>\n",
       "<style scoped>\n",
       "    .dataframe tbody tr th:only-of-type {\n",
       "        vertical-align: middle;\n",
       "    }\n",
       "\n",
       "    .dataframe tbody tr th {\n",
       "        vertical-align: top;\n",
       "    }\n",
       "\n",
       "    .dataframe thead th {\n",
       "        text-align: right;\n",
       "    }\n",
       "</style>\n",
       "<table border=\"1\" class=\"dataframe\">\n",
       "  <thead>\n",
       "    <tr style=\"text-align: right;\">\n",
       "      <th></th>\n",
       "      <th>Wave Period</th>\n",
       "      <th>x0_63rd Street Beach</th>\n",
       "      <th>x0_Calumet Beach</th>\n",
       "      <th>x0_Montrose Beach</th>\n",
       "      <th>x0_Ohio Street Beach</th>\n",
       "      <th>x0_Osterman Beach</th>\n",
       "      <th>x0_Rainbow Beach</th>\n",
       "    </tr>\n",
       "  </thead>\n",
       "  <tbody>\n",
       "    <tr>\n",
       "      <th>3819</th>\n",
       "      <td>4.0</td>\n",
       "      <td>0.0</td>\n",
       "      <td>1.0</td>\n",
       "      <td>0.0</td>\n",
       "      <td>0.0</td>\n",
       "      <td>0.0</td>\n",
       "      <td>0.0</td>\n",
       "    </tr>\n",
       "    <tr>\n",
       "      <th>9262</th>\n",
       "      <td>3.0</td>\n",
       "      <td>0.0</td>\n",
       "      <td>1.0</td>\n",
       "      <td>0.0</td>\n",
       "      <td>0.0</td>\n",
       "      <td>0.0</td>\n",
       "      <td>0.0</td>\n",
       "    </tr>\n",
       "    <tr>\n",
       "      <th>18536</th>\n",
       "      <td>4.0</td>\n",
       "      <td>0.0</td>\n",
       "      <td>0.0</td>\n",
       "      <td>0.0</td>\n",
       "      <td>1.0</td>\n",
       "      <td>0.0</td>\n",
       "      <td>0.0</td>\n",
       "    </tr>\n",
       "    <tr>\n",
       "      <th>34659</th>\n",
       "      <td>4.0</td>\n",
       "      <td>0.0</td>\n",
       "      <td>0.0</td>\n",
       "      <td>0.0</td>\n",
       "      <td>0.0</td>\n",
       "      <td>0.0</td>\n",
       "      <td>1.0</td>\n",
       "    </tr>\n",
       "    <tr>\n",
       "      <th>28142</th>\n",
       "      <td>4.0</td>\n",
       "      <td>0.0</td>\n",
       "      <td>0.0</td>\n",
       "      <td>0.0</td>\n",
       "      <td>0.0</td>\n",
       "      <td>1.0</td>\n",
       "      <td>0.0</td>\n",
       "    </tr>\n",
       "  </tbody>\n",
       "</table>\n",
       "</div>"
      ],
      "text/plain": [
       "       Wave Period  x0_63rd Street Beach  x0_Calumet Beach  x0_Montrose Beach  \\\n",
       "3819           4.0                   0.0               1.0                0.0   \n",
       "9262           3.0                   0.0               1.0                0.0   \n",
       "18536          4.0                   0.0               0.0                0.0   \n",
       "34659          4.0                   0.0               0.0                0.0   \n",
       "28142          4.0                   0.0               0.0                0.0   \n",
       "\n",
       "       x0_Ohio Street Beach  x0_Osterman Beach  x0_Rainbow Beach  \n",
       "3819                    0.0                0.0               0.0  \n",
       "9262                    0.0                0.0               0.0  \n",
       "18536                   1.0                0.0               0.0  \n",
       "34659                   0.0                0.0               1.0  \n",
       "28142                   0.0                1.0               0.0  "
      ]
     },
     "execution_count": 92,
     "metadata": {},
     "output_type": "execute_result"
    }
   ],
   "source": [
    "oh = BetterOneHot(\"Beach Name\")\n",
    "data = oh.fit_transform(train[[\"Beach Name\", \"Wave Period\"]])\n",
    "data.head()"
   ]
  },
  {
   "cell_type": "code",
   "execution_count": 101,
   "metadata": {},
   "outputs": [
    {
     "data": {
      "text/plain": [
       "(0.09293419349248244, 0.09724370434672913)"
      ]
     },
     "execution_count": 101,
     "metadata": {},
     "output_type": "execute_result"
    }
   ],
   "source": [
    "xcols = [\"Beach Name\", \"Wave Period\"]\n",
    "ycol = \"Wave Height\"\n",
    "\n",
    "p = Pipeline([\n",
    "    (\"onehot\", BetterOneHot(\"Beach Name\")),\n",
    "    (\"poly\", PolynomialFeatures(2)),\n",
    "    (\"lreg\", LinearRegression())\n",
    "])\n",
    "\n",
    "p.fit(train[xcols], train[ycol])\n",
    "(\n",
    "    explained_variance_score(train[ycol], p.predict(train[xcols])),\n",
    "    explained_variance_score(test[ycol], p.predict(test[xcols])),\n",
    ")"
   ]
  },
  {
   "cell_type": "code",
   "execution_count": 107,
   "metadata": {},
   "outputs": [
    {
     "data": {
      "text/plain": [
       "(array([ 7.19805133e-19,  4.19825592e-02, -3.63799707e-03, -1.22176232e-02,\n",
       "         1.21598444e-02, -7.17897388e-03,  8.27054805e-04,  1.00476949e-02,\n",
       "        -4.81134297e-03,  2.93704282e-03,  8.21302262e-03,  6.86828284e-03,\n",
       "         7.17050481e-03,  8.93863714e-03,  7.85506896e-03, -3.63799707e-03,\n",
       "         0.00000000e+00,  0.00000000e+00,  0.00000000e+00,  0.00000000e+00,\n",
       "         0.00000000e+00, -1.22176232e-02,  0.00000000e+00,  0.00000000e+00,\n",
       "         0.00000000e+00,  0.00000000e+00,  1.21598444e-02,  0.00000000e+00,\n",
       "         0.00000000e+00,  0.00000000e+00, -7.17897388e-03,  0.00000000e+00,\n",
       "         0.00000000e+00,  8.27054805e-04,  0.00000000e+00,  1.00476949e-02]),\n",
       " 0.07085148477018885)"
      ]
     },
     "execution_count": 107,
     "metadata": {},
     "output_type": "execute_result"
    }
   ],
   "source": [
    "p[\"lreg\"].coef_, p[\"lreg\"].intercept_"
   ]
  },
  {
   "cell_type": "code",
   "execution_count": 115,
   "metadata": {},
   "outputs": [
    {
     "data": {
      "text/plain": [
       "['63rd Street Beach',\n",
       " 'Calumet Beach',\n",
       " 'Montrose Beach',\n",
       " 'Ohio Street Beach',\n",
       " 'Osterman Beach',\n",
       " 'Rainbow Beach']"
      ]
     },
     "execution_count": 115,
     "metadata": {},
     "output_type": "execute_result"
    }
   ],
   "source": [
    "beach_names"
   ]
  },
  {
   "cell_type": "code",
   "execution_count": 122,
   "metadata": {},
   "outputs": [
    {
     "data": {
      "text/plain": [
       "Text(0, 0.5, 'Wave Height (Meters)')"
      ]
     },
     "execution_count": 122,
     "metadata": {},
     "output_type": "execute_result"
    },
    {
     "data": {
      "image/png": "[encoded data removed]",
      "text/plain": [
       "<Figure size 432x288 with 1 Axes>"
      ]
     },
     "metadata": {
      "needs_background": "light"
     },
     "output_type": "display_data"
    }
   ],
   "source": [
    "def plot_beach(name, ax):\n",
    "    df = pd.DataFrame({\n",
    "        \"Beach Name\": name,\n",
    "        \"Wave Period\": np.arange(1, 11, 1),\n",
    "    })\n",
    "    df[\"predicted_wave\"] = p.predict(df)\n",
    "    ax = df.plot.line(x=\"Wave Period\", y=\"predicted_wave\",\n",
    "                      label=name, ax=ax)\n",
    "    return ax\n",
    "    \n",
    "ax = None\n",
    "for name in beach_names:\n",
    "    ax = plot_beach(name, ax)\n",
    "ax.set_ylabel(\"Wave Height (Meters)\")"
   ]
  },
  {
   "cell_type": "code",
   "execution_count": 109,
   "metadata": {},
   "outputs": [
    {
     "data": {
      "text/html": [
       "<div>\n",
       "<style scoped>\n",
       "    .dataframe tbody tr th:only-of-type {\n",
       "        vertical-align: middle;\n",
       "    }\n",
       "\n",
       "    .dataframe tbody tr th {\n",
       "        vertical-align: top;\n",
       "    }\n",
       "\n",
       "    .dataframe thead th {\n",
       "        text-align: right;\n",
       "    }\n",
       "</style>\n",
       "<table border=\"1\" class=\"dataframe\">\n",
       "  <thead>\n",
       "    <tr style=\"text-align: right;\">\n",
       "      <th></th>\n",
       "      <th>Beach Name</th>\n",
       "      <th>Wave Period</th>\n",
       "    </tr>\n",
       "  </thead>\n",
       "  <tbody>\n",
       "    <tr>\n",
       "      <th>3819</th>\n",
       "      <td>Calumet Beach</td>\n",
       "      <td>4.0</td>\n",
       "    </tr>\n",
       "    <tr>\n",
       "      <th>9262</th>\n",
       "      <td>Calumet Beach</td>\n",
       "      <td>3.0</td>\n",
       "    </tr>\n",
       "    <tr>\n",
       "      <th>18536</th>\n",
       "      <td>Ohio Street Beach</td>\n",
       "      <td>4.0</td>\n",
       "    </tr>\n",
       "    <tr>\n",
       "      <th>34659</th>\n",
       "      <td>Rainbow Beach</td>\n",
       "      <td>4.0</td>\n",
       "    </tr>\n",
       "    <tr>\n",
       "      <th>28142</th>\n",
       "      <td>Osterman Beach</td>\n",
       "      <td>4.0</td>\n",
       "    </tr>\n",
       "    <tr>\n",
       "      <th>...</th>\n",
       "      <td>...</td>\n",
       "      <td>...</td>\n",
       "    </tr>\n",
       "    <tr>\n",
       "      <th>20520</th>\n",
       "      <td>Ohio Street Beach</td>\n",
       "      <td>6.0</td>\n",
       "    </tr>\n",
       "    <tr>\n",
       "      <th>544</th>\n",
       "      <td>63rd Street Beach</td>\n",
       "      <td>3.0</td>\n",
       "    </tr>\n",
       "    <tr>\n",
       "      <th>24662</th>\n",
       "      <td>Ohio Street Beach</td>\n",
       "      <td>3.0</td>\n",
       "    </tr>\n",
       "    <tr>\n",
       "      <th>23643</th>\n",
       "      <td>Ohio Street Beach</td>\n",
       "      <td>5.0</td>\n",
       "    </tr>\n",
       "    <tr>\n",
       "      <th>10191</th>\n",
       "      <td>Calumet Beach</td>\n",
       "      <td>2.0</td>\n",
       "    </tr>\n",
       "  </tbody>\n",
       "</table>\n",
       "<p>29037 rows × 2 columns</p>\n",
       "</div>"
      ],
      "text/plain": [
       "              Beach Name  Wave Period\n",
       "3819       Calumet Beach          4.0\n",
       "9262       Calumet Beach          3.0\n",
       "18536  Ohio Street Beach          4.0\n",
       "34659      Rainbow Beach          4.0\n",
       "28142     Osterman Beach          4.0\n",
       "...                  ...          ...\n",
       "20520  Ohio Street Beach          6.0\n",
       "544    63rd Street Beach          3.0\n",
       "24662  Ohio Street Beach          3.0\n",
       "23643  Ohio Street Beach          5.0\n",
       "10191      Calumet Beach          2.0\n",
       "\n",
       "[29037 rows x 2 columns]"
      ]
     },
     "execution_count": 109,
     "metadata": {},
     "output_type": "execute_result"
    }
   ],
   "source": [
    "train[xcols]"
   ]
  }
 ],
 "metadata": {
  "kernelspec": {
   "display_name": "Python 3",
   "language": "python",
   "name": "python3"
  },
  "language_info": {
   "codemirror_mode": {
    "name": "ipython",
    "version": 3
   },
   "file_extension": ".py",
   "mimetype": "text/x-python",
   "name": "python",
   "nbconvert_exporter": "python",
   "pygments_lexer": "ipython3",
   "version": "3.7.2"
  }
 },
 "nbformat": 4,
 "nbformat_minor": 4
}
